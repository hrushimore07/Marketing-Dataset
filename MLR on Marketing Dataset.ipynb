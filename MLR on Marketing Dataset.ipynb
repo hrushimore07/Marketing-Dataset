{
 "cells": [
  {
   "cell_type": "markdown",
   "metadata": {},
   "source": [
    "# Objective\n",
    "\n",
    "* Identify the Which Platform have more impact on Sales \n",
    "\n",
    "* To build the Model which will help to Predict the future sales based on Money invest in Different Platform "
   ]
  },
  {
   "cell_type": "code",
   "execution_count": 2,
   "metadata": {},
   "outputs": [],
   "source": [
    "import pandas as pd \n",
    "import numpy as np \n",
    "\n",
    "################# Machine Learning ################\n",
    "import statsmodels\n",
    "from statsmodels.stats.anova import anova_lm\n",
    "from statsmodels.stats.outliers_influence import variance_inflation_factor\n",
    "\n",
    "################# Data Visualization ################\n",
    "import seaborn as sns\n",
    "from matplotlib import pyplot as plt\n",
    "%matplotlib inline\n"
   ]
  },
  {
   "cell_type": "markdown",
   "metadata": {},
   "source": [
    "# Data Import"
   ]
  },
  {
   "cell_type": "code",
   "execution_count": 3,
   "metadata": {},
   "outputs": [
    {
     "data": {
      "text/html": [
       "<div>\n",
       "<style scoped>\n",
       "    .dataframe tbody tr th:only-of-type {\n",
       "        vertical-align: middle;\n",
       "    }\n",
       "\n",
       "    .dataframe tbody tr th {\n",
       "        vertical-align: top;\n",
       "    }\n",
       "\n",
       "    .dataframe thead th {\n",
       "        text-align: right;\n",
       "    }\n",
       "</style>\n",
       "<table border=\"1\" class=\"dataframe\">\n",
       "  <thead>\n",
       "    <tr style=\"text-align: right;\">\n",
       "      <th></th>\n",
       "      <th>TV</th>\n",
       "      <th>radio</th>\n",
       "      <th>newspaper</th>\n",
       "      <th>sales</th>\n",
       "    </tr>\n",
       "  </thead>\n",
       "  <tbody>\n",
       "    <tr>\n",
       "      <th>0</th>\n",
       "      <td>230.1</td>\n",
       "      <td>37.8</td>\n",
       "      <td>69.2</td>\n",
       "      <td>22.1</td>\n",
       "    </tr>\n",
       "    <tr>\n",
       "      <th>1</th>\n",
       "      <td>44.5</td>\n",
       "      <td>39.3</td>\n",
       "      <td>45.1</td>\n",
       "      <td>10.4</td>\n",
       "    </tr>\n",
       "    <tr>\n",
       "      <th>2</th>\n",
       "      <td>17.2</td>\n",
       "      <td>45.9</td>\n",
       "      <td>69.3</td>\n",
       "      <td>9.3</td>\n",
       "    </tr>\n",
       "    <tr>\n",
       "      <th>3</th>\n",
       "      <td>151.5</td>\n",
       "      <td>41.3</td>\n",
       "      <td>58.5</td>\n",
       "      <td>18.5</td>\n",
       "    </tr>\n",
       "    <tr>\n",
       "      <th>4</th>\n",
       "      <td>180.8</td>\n",
       "      <td>10.8</td>\n",
       "      <td>58.4</td>\n",
       "      <td>12.9</td>\n",
       "    </tr>\n",
       "    <tr>\n",
       "      <th>...</th>\n",
       "      <td>...</td>\n",
       "      <td>...</td>\n",
       "      <td>...</td>\n",
       "      <td>...</td>\n",
       "    </tr>\n",
       "    <tr>\n",
       "      <th>195</th>\n",
       "      <td>38.2</td>\n",
       "      <td>3.7</td>\n",
       "      <td>13.8</td>\n",
       "      <td>7.6</td>\n",
       "    </tr>\n",
       "    <tr>\n",
       "      <th>196</th>\n",
       "      <td>94.2</td>\n",
       "      <td>4.9</td>\n",
       "      <td>8.1</td>\n",
       "      <td>9.7</td>\n",
       "    </tr>\n",
       "    <tr>\n",
       "      <th>197</th>\n",
       "      <td>177.0</td>\n",
       "      <td>9.3</td>\n",
       "      <td>6.4</td>\n",
       "      <td>12.8</td>\n",
       "    </tr>\n",
       "    <tr>\n",
       "      <th>198</th>\n",
       "      <td>283.6</td>\n",
       "      <td>42.0</td>\n",
       "      <td>66.2</td>\n",
       "      <td>25.5</td>\n",
       "    </tr>\n",
       "    <tr>\n",
       "      <th>199</th>\n",
       "      <td>232.1</td>\n",
       "      <td>8.6</td>\n",
       "      <td>8.7</td>\n",
       "      <td>13.4</td>\n",
       "    </tr>\n",
       "  </tbody>\n",
       "</table>\n",
       "<p>200 rows × 4 columns</p>\n",
       "</div>"
      ],
      "text/plain": [
       "        TV  radio  newspaper  sales\n",
       "0    230.1   37.8       69.2   22.1\n",
       "1     44.5   39.3       45.1   10.4\n",
       "2     17.2   45.9       69.3    9.3\n",
       "3    151.5   41.3       58.5   18.5\n",
       "4    180.8   10.8       58.4   12.9\n",
       "..     ...    ...        ...    ...\n",
       "195   38.2    3.7       13.8    7.6\n",
       "196   94.2    4.9        8.1    9.7\n",
       "197  177.0    9.3        6.4   12.8\n",
       "198  283.6   42.0       66.2   25.5\n",
       "199  232.1    8.6        8.7   13.4\n",
       "\n",
       "[200 rows x 4 columns]"
      ]
     },
     "execution_count": 3,
     "metadata": {},
     "output_type": "execute_result"
    }
   ],
   "source": [
    "new = pd.read_csv(r\"C:\\Users\\Owner\\Desktop\\MachineLearning\\Advertising.csv\") #for an earlier version of Excel, you may need to use the file extension of 'xls'\n",
    "\n",
    "new"
   ]
  },
  {
   "cell_type": "markdown",
   "metadata": {},
   "source": [
    "# Data Type "
   ]
  },
  {
   "cell_type": "code",
   "execution_count": 4,
   "metadata": {},
   "outputs": [
    {
     "name": "stdout",
     "output_type": "stream",
     "text": [
      "<class 'pandas.core.frame.DataFrame'>\n",
      "RangeIndex: 200 entries, 0 to 199\n",
      "Data columns (total 4 columns):\n",
      " #   Column     Non-Null Count  Dtype  \n",
      "---  ------     --------------  -----  \n",
      " 0   TV         200 non-null    float64\n",
      " 1   radio      200 non-null    float64\n",
      " 2   newspaper  200 non-null    float64\n",
      " 3   sales      200 non-null    float64\n",
      "dtypes: float64(4)\n",
      "memory usage: 6.4 KB\n"
     ]
    }
   ],
   "source": [
    "new.info()"
   ]
  },
  {
   "cell_type": "markdown",
   "metadata": {},
   "source": [
    "# Univariate Analysis"
   ]
  },
  {
   "cell_type": "code",
   "execution_count": 5,
   "metadata": {
    "scrolled": true
   },
   "outputs": [
    {
     "data": {
      "text/html": [
       "<div>\n",
       "<style scoped>\n",
       "    .dataframe tbody tr th:only-of-type {\n",
       "        vertical-align: middle;\n",
       "    }\n",
       "\n",
       "    .dataframe tbody tr th {\n",
       "        vertical-align: top;\n",
       "    }\n",
       "\n",
       "    .dataframe thead th {\n",
       "        text-align: right;\n",
       "    }\n",
       "</style>\n",
       "<table border=\"1\" class=\"dataframe\">\n",
       "  <thead>\n",
       "    <tr style=\"text-align: right;\">\n",
       "      <th></th>\n",
       "      <th>TV</th>\n",
       "      <th>radio</th>\n",
       "      <th>newspaper</th>\n",
       "      <th>sales</th>\n",
       "    </tr>\n",
       "  </thead>\n",
       "  <tbody>\n",
       "    <tr>\n",
       "      <th>count</th>\n",
       "      <td>200.000000</td>\n",
       "      <td>200.000000</td>\n",
       "      <td>200.000000</td>\n",
       "      <td>200.000000</td>\n",
       "    </tr>\n",
       "    <tr>\n",
       "      <th>mean</th>\n",
       "      <td>147.042500</td>\n",
       "      <td>23.264000</td>\n",
       "      <td>30.554000</td>\n",
       "      <td>14.022500</td>\n",
       "    </tr>\n",
       "    <tr>\n",
       "      <th>std</th>\n",
       "      <td>85.854236</td>\n",
       "      <td>14.846809</td>\n",
       "      <td>21.778621</td>\n",
       "      <td>5.217457</td>\n",
       "    </tr>\n",
       "    <tr>\n",
       "      <th>min</th>\n",
       "      <td>0.700000</td>\n",
       "      <td>0.000000</td>\n",
       "      <td>0.300000</td>\n",
       "      <td>1.600000</td>\n",
       "    </tr>\n",
       "    <tr>\n",
       "      <th>25%</th>\n",
       "      <td>74.375000</td>\n",
       "      <td>9.975000</td>\n",
       "      <td>12.750000</td>\n",
       "      <td>10.375000</td>\n",
       "    </tr>\n",
       "    <tr>\n",
       "      <th>50%</th>\n",
       "      <td>149.750000</td>\n",
       "      <td>22.900000</td>\n",
       "      <td>25.750000</td>\n",
       "      <td>12.900000</td>\n",
       "    </tr>\n",
       "    <tr>\n",
       "      <th>75%</th>\n",
       "      <td>218.825000</td>\n",
       "      <td>36.525000</td>\n",
       "      <td>45.100000</td>\n",
       "      <td>17.400000</td>\n",
       "    </tr>\n",
       "    <tr>\n",
       "      <th>max</th>\n",
       "      <td>296.400000</td>\n",
       "      <td>49.600000</td>\n",
       "      <td>114.000000</td>\n",
       "      <td>27.000000</td>\n",
       "    </tr>\n",
       "  </tbody>\n",
       "</table>\n",
       "</div>"
      ],
      "text/plain": [
       "               TV       radio   newspaper       sales\n",
       "count  200.000000  200.000000  200.000000  200.000000\n",
       "mean   147.042500   23.264000   30.554000   14.022500\n",
       "std     85.854236   14.846809   21.778621    5.217457\n",
       "min      0.700000    0.000000    0.300000    1.600000\n",
       "25%     74.375000    9.975000   12.750000   10.375000\n",
       "50%    149.750000   22.900000   25.750000   12.900000\n",
       "75%    218.825000   36.525000   45.100000   17.400000\n",
       "max    296.400000   49.600000  114.000000   27.000000"
      ]
     },
     "execution_count": 5,
     "metadata": {},
     "output_type": "execute_result"
    }
   ],
   "source": [
    "# Let's look at some statistical information about our dataframe.\n",
    "new.describe() "
   ]
  },
  {
   "cell_type": "markdown",
   "metadata": {},
   "source": [
    "# EDA\n",
    "* Identify & Treatment of Outlier "
   ]
  },
  {
   "cell_type": "code",
   "execution_count": 6,
   "metadata": {},
   "outputs": [
    {
     "data": {
      "text/plain": [
       "<AxesSubplot:>"
      ]
     },
     "execution_count": 6,
     "metadata": {},
     "output_type": "execute_result"
    },
    {
     "data": {
      "image/png": "[encoded data removed]",
      "text/plain": [
       "<Figure size 432x288 with 1 Axes>"
      ]
     },
     "metadata": {
      "needs_background": "light"
     },
     "output_type": "display_data"
    }
   ],
   "source": [
    "sns.boxplot(data=new)"
   ]
  },
  {
   "cell_type": "markdown",
   "metadata": {},
   "source": [
    "### Winsorizing Technique -- Treatment of Outlier"
   ]
  },
  {
   "cell_type": "code",
   "execution_count": 7,
   "metadata": {},
   "outputs": [
    {
     "data": {
      "text/plain": [
       "93.625"
      ]
     },
     "execution_count": 7,
     "metadata": {},
     "output_type": "execute_result"
    }
   ],
   "source": [
    "q1 = new['newspaper'].quantile(0.25)\n",
    "q3 = new['newspaper'].quantile(0.75)\n",
    "iqr = q3-q1 #Interquartile range\n",
    "#low_limit = q1-1.5*iqr #acceptable range\n",
    "upper_limit = q3+1.5*iqr #acceptable range\n",
    "upper_limit"
   ]
  },
  {
   "cell_type": "code",
   "execution_count": 8,
   "metadata": {},
   "outputs": [],
   "source": [
    "new['newspaper']=np.where(new['newspaper'] > upper_limit,upper_limit,new['newspaper']) # upper limit"
   ]
  },
  {
   "cell_type": "code",
   "execution_count": 9,
   "metadata": {
    "scrolled": false
   },
   "outputs": [
    {
     "data": {
      "text/plain": [
       "<AxesSubplot:>"
      ]
     },
     "execution_count": 9,
     "metadata": {},
     "output_type": "execute_result"
    },
    {
     "data": {
      "image/png": "[encoded data removed]",
      "text/plain": [
       "<Figure size 432x288 with 1 Axes>"
      ]
     },
     "metadata": {
      "needs_background": "light"
     },
     "output_type": "display_data"
    }
   ],
   "source": [
    "sns.boxplot(data=new)"
   ]
  },
  {
   "cell_type": "code",
   "execution_count": 10,
   "metadata": {
    "scrolled": true
   },
   "outputs": [
    {
     "data": {
      "text/html": [
       "<div>\n",
       "<style scoped>\n",
       "    .dataframe tbody tr th:only-of-type {\n",
       "        vertical-align: middle;\n",
       "    }\n",
       "\n",
       "    .dataframe tbody tr th {\n",
       "        vertical-align: top;\n",
       "    }\n",
       "\n",
       "    .dataframe thead th {\n",
       "        text-align: right;\n",
       "    }\n",
       "</style>\n",
       "<table border=\"1\" class=\"dataframe\">\n",
       "  <thead>\n",
       "    <tr style=\"text-align: right;\">\n",
       "      <th></th>\n",
       "      <th>TV</th>\n",
       "      <th>radio</th>\n",
       "      <th>newspaper</th>\n",
       "      <th>sales</th>\n",
       "    </tr>\n",
       "  </thead>\n",
       "  <tbody>\n",
       "    <tr>\n",
       "      <th>count</th>\n",
       "      <td>200.000000</td>\n",
       "      <td>200.000000</td>\n",
       "      <td>200.000000</td>\n",
       "      <td>200.000000</td>\n",
       "    </tr>\n",
       "    <tr>\n",
       "      <th>mean</th>\n",
       "      <td>147.042500</td>\n",
       "      <td>23.264000</td>\n",
       "      <td>30.415750</td>\n",
       "      <td>14.022500</td>\n",
       "    </tr>\n",
       "    <tr>\n",
       "      <th>std</th>\n",
       "      <td>85.854236</td>\n",
       "      <td>14.846809</td>\n",
       "      <td>21.316901</td>\n",
       "      <td>5.217457</td>\n",
       "    </tr>\n",
       "    <tr>\n",
       "      <th>min</th>\n",
       "      <td>0.700000</td>\n",
       "      <td>0.000000</td>\n",
       "      <td>0.300000</td>\n",
       "      <td>1.600000</td>\n",
       "    </tr>\n",
       "    <tr>\n",
       "      <th>25%</th>\n",
       "      <td>74.375000</td>\n",
       "      <td>9.975000</td>\n",
       "      <td>12.750000</td>\n",
       "      <td>10.375000</td>\n",
       "    </tr>\n",
       "    <tr>\n",
       "      <th>50%</th>\n",
       "      <td>149.750000</td>\n",
       "      <td>22.900000</td>\n",
       "      <td>25.750000</td>\n",
       "      <td>12.900000</td>\n",
       "    </tr>\n",
       "    <tr>\n",
       "      <th>75%</th>\n",
       "      <td>218.825000</td>\n",
       "      <td>36.525000</td>\n",
       "      <td>45.100000</td>\n",
       "      <td>17.400000</td>\n",
       "    </tr>\n",
       "    <tr>\n",
       "      <th>max</th>\n",
       "      <td>296.400000</td>\n",
       "      <td>49.600000</td>\n",
       "      <td>93.625000</td>\n",
       "      <td>27.000000</td>\n",
       "    </tr>\n",
       "  </tbody>\n",
       "</table>\n",
       "</div>"
      ],
      "text/plain": [
       "               TV       radio   newspaper       sales\n",
       "count  200.000000  200.000000  200.000000  200.000000\n",
       "mean   147.042500   23.264000   30.415750   14.022500\n",
       "std     85.854236   14.846809   21.316901    5.217457\n",
       "min      0.700000    0.000000    0.300000    1.600000\n",
       "25%     74.375000    9.975000   12.750000   10.375000\n",
       "50%    149.750000   22.900000   25.750000   12.900000\n",
       "75%    218.825000   36.525000   45.100000   17.400000\n",
       "max    296.400000   49.600000   93.625000   27.000000"
      ]
     },
     "execution_count": 10,
     "metadata": {},
     "output_type": "execute_result"
    }
   ],
   "source": [
    "# Let's look at some statistical information about our dataframe.\n",
    "new.describe() "
   ]
  },
  {
   "cell_type": "code",
   "execution_count": 11,
   "metadata": {},
   "outputs": [
    {
     "data": {
      "text/plain": [
       "TV           0\n",
       "radio        0\n",
       "newspaper    0\n",
       "sales        0\n",
       "dtype: int64"
      ]
     },
     "execution_count": 11,
     "metadata": {},
     "output_type": "execute_result"
    }
   ],
   "source": [
    "new.isna().sum()  # no missing data"
   ]
  },
  {
   "cell_type": "markdown",
   "metadata": {},
   "source": [
    "# Step 3 : Splitting the data in Training and Test set\n",
    "* Using sklearn we split 70% of our data into training set and rest in test set.\n",
    "* Setting random_state will give the same training and test set everytime on running the code"
   ]
  },
  {
   "cell_type": "code",
   "execution_count": 12,
   "metadata": {},
   "outputs": [
    {
     "data": {
      "text/html": [
       "<div>\n",
       "<style scoped>\n",
       "    .dataframe tbody tr th:only-of-type {\n",
       "        vertical-align: middle;\n",
       "    }\n",
       "\n",
       "    .dataframe tbody tr th {\n",
       "        vertical-align: top;\n",
       "    }\n",
       "\n",
       "    .dataframe thead th {\n",
       "        text-align: right;\n",
       "    }\n",
       "</style>\n",
       "<table border=\"1\" class=\"dataframe\">\n",
       "  <thead>\n",
       "    <tr style=\"text-align: right;\">\n",
       "      <th></th>\n",
       "      <th>TV</th>\n",
       "      <th>radio</th>\n",
       "      <th>newspaper</th>\n",
       "      <th>sales</th>\n",
       "    </tr>\n",
       "  </thead>\n",
       "  <tbody>\n",
       "    <tr>\n",
       "      <th>0</th>\n",
       "      <td>230.1</td>\n",
       "      <td>37.8</td>\n",
       "      <td>69.2</td>\n",
       "      <td>22.1</td>\n",
       "    </tr>\n",
       "    <tr>\n",
       "      <th>1</th>\n",
       "      <td>44.5</td>\n",
       "      <td>39.3</td>\n",
       "      <td>45.1</td>\n",
       "      <td>10.4</td>\n",
       "    </tr>\n",
       "    <tr>\n",
       "      <th>2</th>\n",
       "      <td>17.2</td>\n",
       "      <td>45.9</td>\n",
       "      <td>69.3</td>\n",
       "      <td>9.3</td>\n",
       "    </tr>\n",
       "    <tr>\n",
       "      <th>3</th>\n",
       "      <td>151.5</td>\n",
       "      <td>41.3</td>\n",
       "      <td>58.5</td>\n",
       "      <td>18.5</td>\n",
       "    </tr>\n",
       "    <tr>\n",
       "      <th>4</th>\n",
       "      <td>180.8</td>\n",
       "      <td>10.8</td>\n",
       "      <td>58.4</td>\n",
       "      <td>12.9</td>\n",
       "    </tr>\n",
       "  </tbody>\n",
       "</table>\n",
       "</div>"
      ],
      "text/plain": [
       "      TV  radio  newspaper  sales\n",
       "0  230.1   37.8       69.2   22.1\n",
       "1   44.5   39.3       45.1   10.4\n",
       "2   17.2   45.9       69.3    9.3\n",
       "3  151.5   41.3       58.5   18.5\n",
       "4  180.8   10.8       58.4   12.9"
      ]
     },
     "execution_count": 12,
     "metadata": {},
     "output_type": "execute_result"
    }
   ],
   "source": [
    "new.head()"
   ]
  },
  {
   "cell_type": "code",
   "execution_count": 13,
   "metadata": {},
   "outputs": [],
   "source": [
    "# Putting feature variable to X\n",
    "X = new.drop('sales', axis= 1)\n",
    "\n",
    "# Putting response variable to y\n",
    "y = new[['sales']]\n",
    "\n",
    "#random_state is the seed used by the random number generator. It can be any integer.\n",
    "from sklearn.model_selection import train_test_split\n",
    "X_train, X_test, y_train, y_test =train_test_split(X, y, train_size=0.7 ,random_state=120)"
   ]
  },
  {
   "cell_type": "code",
   "execution_count": 14,
   "metadata": {},
   "outputs": [
    {
     "data": {
      "text/html": [
       "<div>\n",
       "<style scoped>\n",
       "    .dataframe tbody tr th:only-of-type {\n",
       "        vertical-align: middle;\n",
       "    }\n",
       "\n",
       "    .dataframe tbody tr th {\n",
       "        vertical-align: top;\n",
       "    }\n",
       "\n",
       "    .dataframe thead th {\n",
       "        text-align: right;\n",
       "    }\n",
       "</style>\n",
       "<table border=\"1\" class=\"dataframe\">\n",
       "  <thead>\n",
       "    <tr style=\"text-align: right;\">\n",
       "      <th></th>\n",
       "      <th>sales</th>\n",
       "      <th>TV</th>\n",
       "      <th>radio</th>\n",
       "      <th>newspaper</th>\n",
       "    </tr>\n",
       "  </thead>\n",
       "  <tbody>\n",
       "    <tr>\n",
       "      <th>111</th>\n",
       "      <td>21.8</td>\n",
       "      <td>241.7</td>\n",
       "      <td>38.0</td>\n",
       "      <td>23.2</td>\n",
       "    </tr>\n",
       "    <tr>\n",
       "      <th>156</th>\n",
       "      <td>15.3</td>\n",
       "      <td>93.9</td>\n",
       "      <td>43.5</td>\n",
       "      <td>50.5</td>\n",
       "    </tr>\n",
       "    <tr>\n",
       "      <th>140</th>\n",
       "      <td>10.9</td>\n",
       "      <td>73.4</td>\n",
       "      <td>17.0</td>\n",
       "      <td>12.9</td>\n",
       "    </tr>\n",
       "    <tr>\n",
       "      <th>171</th>\n",
       "      <td>14.5</td>\n",
       "      <td>164.5</td>\n",
       "      <td>20.9</td>\n",
       "      <td>47.4</td>\n",
       "    </tr>\n",
       "    <tr>\n",
       "      <th>157</th>\n",
       "      <td>10.1</td>\n",
       "      <td>149.8</td>\n",
       "      <td>1.3</td>\n",
       "      <td>24.3</td>\n",
       "    </tr>\n",
       "  </tbody>\n",
       "</table>\n",
       "</div>"
      ],
      "text/plain": [
       "     sales     TV  radio  newspaper\n",
       "111   21.8  241.7   38.0       23.2\n",
       "156   15.3   93.9   43.5       50.5\n",
       "140   10.9   73.4   17.0       12.9\n",
       "171   14.5  164.5   20.9       47.4\n",
       "157   10.1  149.8    1.3       24.3"
      ]
     },
     "execution_count": 14,
     "metadata": {},
     "output_type": "execute_result"
    }
   ],
   "source": [
    "df = pd.concat([y_train, X_train], axis=1)\n",
    "df.head()"
   ]
  },
  {
   "cell_type": "markdown",
   "metadata": {},
   "source": [
    "# Correlation Matrix"
   ]
  },
  {
   "cell_type": "code",
   "execution_count": 15,
   "metadata": {
    "scrolled": true
   },
   "outputs": [
    {
     "data": {
      "text/html": [
       "<div>\n",
       "<style scoped>\n",
       "    .dataframe tbody tr th:only-of-type {\n",
       "        vertical-align: middle;\n",
       "    }\n",
       "\n",
       "    .dataframe tbody tr th {\n",
       "        vertical-align: top;\n",
       "    }\n",
       "\n",
       "    .dataframe thead th {\n",
       "        text-align: right;\n",
       "    }\n",
       "</style>\n",
       "<table border=\"1\" class=\"dataframe\">\n",
       "  <thead>\n",
       "    <tr style=\"text-align: right;\">\n",
       "      <th></th>\n",
       "      <th>sales</th>\n",
       "      <th>TV</th>\n",
       "      <th>radio</th>\n",
       "      <th>newspaper</th>\n",
       "    </tr>\n",
       "  </thead>\n",
       "  <tbody>\n",
       "    <tr>\n",
       "      <th>sales</th>\n",
       "      <td>1.000000</td>\n",
       "      <td>0.813611</td>\n",
       "      <td>0.616691</td>\n",
       "      <td>0.220532</td>\n",
       "    </tr>\n",
       "    <tr>\n",
       "      <th>TV</th>\n",
       "      <td>0.813611</td>\n",
       "      <td>1.000000</td>\n",
       "      <td>0.147367</td>\n",
       "      <td>0.073830</td>\n",
       "    </tr>\n",
       "    <tr>\n",
       "      <th>radio</th>\n",
       "      <td>0.616691</td>\n",
       "      <td>0.147367</td>\n",
       "      <td>1.000000</td>\n",
       "      <td>0.300592</td>\n",
       "    </tr>\n",
       "    <tr>\n",
       "      <th>newspaper</th>\n",
       "      <td>0.220532</td>\n",
       "      <td>0.073830</td>\n",
       "      <td>0.300592</td>\n",
       "      <td>1.000000</td>\n",
       "    </tr>\n",
       "  </tbody>\n",
       "</table>\n",
       "</div>"
      ],
      "text/plain": [
       "              sales        TV     radio  newspaper\n",
       "sales      1.000000  0.813611  0.616691   0.220532\n",
       "TV         0.813611  1.000000  0.147367   0.073830\n",
       "radio      0.616691  0.147367  1.000000   0.300592\n",
       "newspaper  0.220532  0.073830  0.300592   1.000000"
      ]
     },
     "execution_count": 15,
     "metadata": {},
     "output_type": "execute_result"
    }
   ],
   "source": [
    "df.corr()"
   ]
  },
  {
   "cell_type": "code",
   "execution_count": 16,
   "metadata": {
    "scrolled": true
   },
   "outputs": [
    {
     "data": {
      "text/plain": [
       "<AxesSubplot:>"
      ]
     },
     "execution_count": 16,
     "metadata": {},
     "output_type": "execute_result"
    },
    {
     "data": {
      "image/png": "[encoded data removed]",
      "text/plain": [
       "<Figure size 432x288 with 2 Axes>"
      ]
     },
     "metadata": {
      "needs_background": "light"
     },
     "output_type": "display_data"
    }
   ],
   "source": [
    "sns.heatmap(df.corr(),annot = True)"
   ]
  },
  {
   "cell_type": "code",
   "execution_count": 17,
   "metadata": {
    "scrolled": false
   },
   "outputs": [
    {
     "data": {
      "text/plain": [
       "<AxesSubplot:title={'center':'sales vs TV'}, xlabel='TV', ylabel='sales'>"
      ]
     },
     "execution_count": 17,
     "metadata": {},
     "output_type": "execute_result"
    },
    {
     "data": {
      "image/png": "[encoded data removed]",
      "text/plain": [
       "<Figure size 432x288 with 1 Axes>"
      ]
     },
     "metadata": {
      "needs_background": "light"
     },
     "output_type": "display_data"
    }
   ],
   "source": [
    "df.plot.scatter(x='TV', y='sales', title='sales vs TV')"
   ]
  },
  {
   "cell_type": "markdown",
   "metadata": {},
   "source": [
    "#### TV have 81%  strong positve correlation with Sales\n",
    "\n",
    "* TV have high impact on Sales\n",
    "* There is no colinearity in data "
   ]
  },
  {
   "cell_type": "markdown",
   "metadata": {},
   "source": [
    "### Multicolinearity (with the help of VIF)"
   ]
  },
  {
   "cell_type": "code",
   "execution_count": 21,
   "metadata": {
    "scrolled": true
   },
   "outputs": [
    {
     "data": {
      "text/plain": [
       "array([[230.1  ,  37.8  ,  69.2  ],\n",
       "       [ 44.5  ,  39.3  ,  45.1  ],\n",
       "       [ 17.2  ,  45.9  ,  69.3  ],\n",
       "       [151.5  ,  41.3  ,  58.5  ],\n",
       "       [180.8  ,  10.8  ,  58.4  ],\n",
       "       [  8.7  ,  48.9  ,  75.   ],\n",
       "       [ 57.5  ,  32.8  ,  23.5  ],\n",
       "       [120.2  ,  19.6  ,  11.6  ],\n",
       "       [  8.6  ,   2.1  ,   1.   ],\n",
       "       [199.8  ,   2.6  ,  21.2  ],\n",
       "       [ 66.1  ,   5.8  ,  24.2  ],\n",
       "       [214.7  ,  24.   ,   4.   ],\n",
       "       [ 23.8  ,  35.1  ,  65.9  ],\n",
       "       [ 97.5  ,   7.6  ,   7.2  ],\n",
       "       [204.1  ,  32.9  ,  46.   ],\n",
       "       [195.4  ,  47.7  ,  52.9  ],\n",
       "       [ 67.8  ,  36.6  ,  93.625],\n",
       "       [281.4  ,  39.6  ,  55.8  ],\n",
       "       [ 69.2  ,  20.5  ,  18.3  ],\n",
       "       [147.3  ,  23.9  ,  19.1  ],\n",
       "       [218.4  ,  27.7  ,  53.4  ],\n",
       "       [237.4  ,   5.1  ,  23.5  ],\n",
       "       [ 13.2  ,  15.9  ,  49.6  ],\n",
       "       [228.3  ,  16.9  ,  26.2  ],\n",
       "       [ 62.3  ,  12.6  ,  18.3  ],\n",
       "       [262.9  ,   3.5  ,  19.5  ],\n",
       "       [142.9  ,  29.3  ,  12.6  ],\n",
       "       [240.1  ,  16.7  ,  22.9  ],\n",
       "       [248.8  ,  27.1  ,  22.9  ],\n",
       "       [ 70.6  ,  16.   ,  40.8  ],\n",
       "       [292.9  ,  28.3  ,  43.2  ],\n",
       "       [112.9  ,  17.4  ,  38.6  ],\n",
       "       [ 97.2  ,   1.5  ,  30.   ],\n",
       "       [265.6  ,  20.   ,   0.3  ],\n",
       "       [ 95.7  ,   1.4  ,   7.4  ],\n",
       "       [290.7  ,   4.1  ,   8.5  ],\n",
       "       [266.9  ,  43.8  ,   5.   ],\n",
       "       [ 74.7  ,  49.4  ,  45.7  ],\n",
       "       [ 43.1  ,  26.7  ,  35.1  ],\n",
       "       [228.   ,  37.7  ,  32.   ],\n",
       "       [202.5  ,  22.3  ,  31.6  ],\n",
       "       [177.   ,  33.4  ,  38.7  ],\n",
       "       [293.6  ,  27.7  ,   1.8  ],\n",
       "       [206.9  ,   8.4  ,  26.4  ],\n",
       "       [ 25.1  ,  25.7  ,  43.3  ],\n",
       "       [175.1  ,  22.5  ,  31.5  ],\n",
       "       [ 89.7  ,   9.9  ,  35.7  ],\n",
       "       [239.9  ,  41.5  ,  18.5  ],\n",
       "       [227.2  ,  15.8  ,  49.9  ],\n",
       "       [ 66.9  ,  11.7  ,  36.8  ],\n",
       "       [199.8  ,   3.1  ,  34.6  ],\n",
       "       [100.4  ,   9.6  ,   3.6  ],\n",
       "       [216.4  ,  41.7  ,  39.6  ],\n",
       "       [182.6  ,  46.2  ,  58.7  ],\n",
       "       [262.7  ,  28.8  ,  15.9  ],\n",
       "       [198.9  ,  49.4  ,  60.   ],\n",
       "       [  7.3  ,  28.1  ,  41.4  ],\n",
       "       [136.2  ,  19.2  ,  16.6  ],\n",
       "       [210.8  ,  49.6  ,  37.7  ],\n",
       "       [210.7  ,  29.5  ,   9.3  ],\n",
       "       [ 53.5  ,   2.   ,  21.4  ],\n",
       "       [261.3  ,  42.7  ,  54.7  ],\n",
       "       [239.3  ,  15.5  ,  27.3  ],\n",
       "       [102.7  ,  29.6  ,   8.4  ],\n",
       "       [131.1  ,  42.8  ,  28.9  ],\n",
       "       [ 69.   ,   9.3  ,   0.9  ],\n",
       "       [ 31.5  ,  24.6  ,   2.2  ],\n",
       "       [139.3  ,  14.5  ,  10.2  ],\n",
       "       [237.4  ,  27.5  ,  11.   ],\n",
       "       [216.8  ,  43.9  ,  27.2  ],\n",
       "       [199.1  ,  30.6  ,  38.7  ],\n",
       "       [109.8  ,  14.3  ,  31.7  ],\n",
       "       [ 26.8  ,  33.   ,  19.3  ],\n",
       "       [129.4  ,   5.7  ,  31.3  ],\n",
       "       [213.4  ,  24.6  ,  13.1  ],\n",
       "       [ 16.9  ,  43.7  ,  89.4  ],\n",
       "       [ 27.5  ,   1.6  ,  20.7  ],\n",
       "       [120.5  ,  28.5  ,  14.2  ],\n",
       "       [  5.4  ,  29.9  ,   9.4  ],\n",
       "       [116.   ,   7.7  ,  23.1  ],\n",
       "       [ 76.4  ,  26.7  ,  22.3  ],\n",
       "       [239.8  ,   4.1  ,  36.9  ],\n",
       "       [ 75.3  ,  20.3  ,  32.5  ],\n",
       "       [ 68.4  ,  44.5  ,  35.6  ],\n",
       "       [213.5  ,  43.   ,  33.8  ],\n",
       "       [193.2  ,  18.4  ,  65.7  ],\n",
       "       [ 76.3  ,  27.5  ,  16.   ],\n",
       "       [110.7  ,  40.6  ,  63.2  ],\n",
       "       [ 88.3  ,  25.5  ,  73.4  ],\n",
       "       [109.8  ,  47.8  ,  51.4  ],\n",
       "       [134.3  ,   4.9  ,   9.3  ],\n",
       "       [ 28.6  ,   1.5  ,  33.   ],\n",
       "       [217.7  ,  33.5  ,  59.   ],\n",
       "       [250.9  ,  36.5  ,  72.3  ],\n",
       "       [107.4  ,  14.   ,  10.9  ],\n",
       "       [163.3  ,  31.6  ,  52.9  ],\n",
       "       [197.6  ,   3.5  ,   5.9  ],\n",
       "       [184.9  ,  21.   ,  22.   ],\n",
       "       [289.7  ,  42.3  ,  51.2  ],\n",
       "       [135.2  ,  41.7  ,  45.9  ],\n",
       "       [222.4  ,   4.3  ,  49.8  ],\n",
       "       [296.4  ,  36.3  ,  93.625],\n",
       "       [280.2  ,  10.1  ,  21.4  ],\n",
       "       [187.9  ,  17.2  ,  17.9  ],\n",
       "       [238.2  ,  34.3  ,   5.3  ],\n",
       "       [137.9  ,  46.4  ,  59.   ],\n",
       "       [ 25.   ,  11.   ,  29.7  ],\n",
       "       [ 90.4  ,   0.3  ,  23.2  ],\n",
       "       [ 13.1  ,   0.4  ,  25.6  ],\n",
       "       [255.4  ,  26.9  ,   5.5  ],\n",
       "       [225.8  ,   8.2  ,  56.5  ],\n",
       "       [241.7  ,  38.   ,  23.2  ],\n",
       "       [175.7  ,  15.4  ,   2.4  ],\n",
       "       [209.6  ,  20.6  ,  10.7  ],\n",
       "       [ 78.2  ,  46.8  ,  34.5  ],\n",
       "       [ 75.1  ,  35.   ,  52.7  ],\n",
       "       [139.2  ,  14.3  ,  25.6  ],\n",
       "       [ 76.4  ,   0.8  ,  14.8  ],\n",
       "       [125.7  ,  36.9  ,  79.2  ],\n",
       "       [ 19.4  ,  16.   ,  22.3  ],\n",
       "       [141.3  ,  26.8  ,  46.2  ],\n",
       "       [ 18.8  ,  21.7  ,  50.4  ],\n",
       "       [224.   ,   2.4  ,  15.6  ],\n",
       "       [123.1  ,  34.6  ,  12.4  ],\n",
       "       [229.5  ,  32.3  ,  74.2  ],\n",
       "       [ 87.2  ,  11.8  ,  25.9  ],\n",
       "       [  7.8  ,  38.9  ,  50.6  ],\n",
       "       [ 80.2  ,   0.   ,   9.2  ],\n",
       "       [220.3  ,  49.   ,   3.2  ],\n",
       "       [ 59.6  ,  12.   ,  43.1  ],\n",
       "       [  0.7  ,  39.6  ,   8.7  ],\n",
       "       [265.2  ,   2.9  ,  43.   ],\n",
       "       [  8.4  ,  27.2  ,   2.1  ],\n",
       "       [219.8  ,  33.5  ,  45.1  ],\n",
       "       [ 36.9  ,  38.6  ,  65.6  ],\n",
       "       [ 48.3  ,  47.   ,   8.5  ],\n",
       "       [ 25.6  ,  39.   ,   9.3  ],\n",
       "       [273.7  ,  28.9  ,  59.7  ],\n",
       "       [ 43.   ,  25.9  ,  20.5  ],\n",
       "       [184.9  ,  43.9  ,   1.7  ],\n",
       "       [ 73.4  ,  17.   ,  12.9  ],\n",
       "       [193.7  ,  35.4  ,  75.6  ],\n",
       "       [220.5  ,  33.2  ,  37.9  ],\n",
       "       [104.6  ,   5.7  ,  34.4  ],\n",
       "       [ 96.2  ,  14.8  ,  38.9  ],\n",
       "       [140.3  ,   1.9  ,   9.   ],\n",
       "       [240.1  ,   7.3  ,   8.7  ],\n",
       "       [243.2  ,  49.   ,  44.3  ],\n",
       "       [ 38.   ,  40.3  ,  11.9  ],\n",
       "       [ 44.7  ,  25.8  ,  20.6  ],\n",
       "       [280.7  ,  13.9  ,  37.   ],\n",
       "       [121.   ,   8.4  ,  48.7  ],\n",
       "       [197.6  ,  23.3  ,  14.2  ],\n",
       "       [171.3  ,  39.7  ,  37.7  ],\n",
       "       [187.8  ,  21.1  ,   9.5  ],\n",
       "       [  4.1  ,  11.6  ,   5.7  ],\n",
       "       [ 93.9  ,  43.5  ,  50.5  ],\n",
       "       [149.8  ,   1.3  ,  24.3  ],\n",
       "       [ 11.7  ,  36.9  ,  45.2  ],\n",
       "       [131.7  ,  18.4  ,  34.6  ],\n",
       "       [172.5  ,  18.1  ,  30.7  ],\n",
       "       [ 85.7  ,  35.8  ,  49.3  ],\n",
       "       [188.4  ,  18.1  ,  25.6  ],\n",
       "       [163.5  ,  36.8  ,   7.4  ],\n",
       "       [117.2  ,  14.7  ,   5.4  ],\n",
       "       [234.5  ,   3.4  ,  84.8  ],\n",
       "       [ 17.9  ,  37.6  ,  21.6  ],\n",
       "       [206.8  ,   5.2  ,  19.4  ],\n",
       "       [215.4  ,  23.6  ,  57.6  ],\n",
       "       [284.3  ,  10.6  ,   6.4  ],\n",
       "       [ 50.   ,  11.6  ,  18.4  ],\n",
       "       [164.5  ,  20.9  ,  47.4  ],\n",
       "       [ 19.6  ,  20.1  ,  17.   ],\n",
       "       [168.4  ,   7.1  ,  12.8  ],\n",
       "       [222.4  ,   3.4  ,  13.1  ],\n",
       "       [276.9  ,  48.9  ,  41.8  ],\n",
       "       [248.4  ,  30.2  ,  20.3  ],\n",
       "       [170.2  ,   7.8  ,  35.2  ],\n",
       "       [276.7  ,   2.3  ,  23.7  ],\n",
       "       [165.6  ,  10.   ,  17.6  ],\n",
       "       [156.6  ,   2.6  ,   8.3  ],\n",
       "       [218.5  ,   5.4  ,  27.4  ],\n",
       "       [ 56.2  ,   5.7  ,  29.7  ],\n",
       "       [287.6  ,  43.   ,  71.8  ],\n",
       "       [253.8  ,  21.3  ,  30.   ],\n",
       "       [205.   ,  45.1  ,  19.6  ],\n",
       "       [139.5  ,   2.1  ,  26.6  ],\n",
       "       [191.1  ,  28.7  ,  18.2  ],\n",
       "       [286.   ,  13.9  ,   3.7  ],\n",
       "       [ 18.7  ,  12.1  ,  23.4  ],\n",
       "       [ 39.5  ,  41.1  ,   5.8  ],\n",
       "       [ 75.5  ,  10.8  ,   6.   ],\n",
       "       [ 17.2  ,   4.1  ,  31.6  ],\n",
       "       [166.8  ,  42.   ,   3.6  ],\n",
       "       [149.7  ,  35.6  ,   6.   ],\n",
       "       [ 38.2  ,   3.7  ,  13.8  ],\n",
       "       [ 94.2  ,   4.9  ,   8.1  ],\n",
       "       [177.   ,   9.3  ,   6.4  ],\n",
       "       [283.6  ,  42.   ,  66.2  ],\n",
       "       [232.1  ,   8.6  ,   8.7  ]])"
      ]
     },
     "execution_count": 21,
     "metadata": {},
     "output_type": "execute_result"
    }
   ],
   "source": [
    "X.values"
   ]
  },
  {
   "cell_type": "code",
   "execution_count": 20,
   "metadata": {},
   "outputs": [
    {
     "data": {
      "text/plain": [
       "3"
      ]
     },
     "execution_count": 20,
     "metadata": {},
     "output_type": "execute_result"
    }
   ],
   "source": [
    "X.shape[1]"
   ]
  },
  {
   "cell_type": "code",
   "execution_count": 23,
   "metadata": {},
   "outputs": [
    {
     "data": {
      "text/plain": [
       "Index(['TV', 'radio', 'newspaper'], dtype='object')"
      ]
     },
     "execution_count": 23,
     "metadata": {},
     "output_type": "execute_result"
    }
   ],
   "source": [
    "X.columns"
   ]
  },
  {
   "cell_type": "code",
   "execution_count": 24,
   "metadata": {},
   "outputs": [
    {
     "data": {
      "text/plain": [
       "TV           2.730779\n",
       "radio        3.338435\n",
       "newspaper    2.842430\n",
       "dtype: float64"
      ]
     },
     "execution_count": 24,
     "metadata": {},
     "output_type": "execute_result"
    }
   ],
   "source": [
    "X1=df.drop(['sales'],axis=1)\n",
    "series_before = pd.Series([variance_inflation_factor(X1.values, i) \n",
    "                           for i in range(X1.shape[1])],  # i=0,1,2\n",
    "                          index=X1.columns)  # column name\n",
    "series_before"
   ]
  },
  {
   "cell_type": "markdown",
   "metadata": {},
   "source": [
    "* No collinearity in the data "
   ]
  },
  {
   "cell_type": "markdown",
   "metadata": {},
   "source": [
    "# Model Building"
   ]
  },
  {
   "cell_type": "markdown",
   "metadata": {},
   "source": [
    "*  H0 :- There is no Linear relationship between sales and tv , radio & newspaper\n",
    "\n",
    "* Vs \n",
    "\n",
    "*  H1 :- There is Linear relationship between sales and tv , radio & newspaper\n",
    "\n",
    "Alpha = 0.05 (5%)"
   ]
  },
  {
   "cell_type": "code",
   "execution_count": 25,
   "metadata": {},
   "outputs": [
    {
     "data": {
      "text/html": [
       "<table class=\"simpletable\">\n",
       "<caption>OLS Regression Results</caption>\n",
       "<tr>\n",
       "  <th>Dep. Variable:</th>          <td>sales</td>      <th>  R-squared:         </th> <td>   0.914</td>\n",
       "</tr>\n",
       "<tr>\n",
       "  <th>Model:</th>                   <td>OLS</td>       <th>  Adj. R-squared:    </th> <td>   0.913</td>\n",
       "</tr>\n",
       "<tr>\n",
       "  <th>Method:</th>             <td>Least Squares</td>  <th>  F-statistic:       </th> <td>   484.5</td>\n",
       "</tr>\n",
       "<tr>\n",
       "  <th>Date:</th>             <td>Wed, 18 May 2022</td> <th>  Prob (F-statistic):</th> <td>2.22e-72</td>\n",
       "</tr>\n",
       "<tr>\n",
       "  <th>Time:</th>                 <td>15:45:11</td>     <th>  Log-Likelihood:    </th> <td> -262.57</td>\n",
       "</tr>\n",
       "<tr>\n",
       "  <th>No. Observations:</th>      <td>   140</td>      <th>  AIC:               </th> <td>   533.1</td>\n",
       "</tr>\n",
       "<tr>\n",
       "  <th>Df Residuals:</th>          <td>   136</td>      <th>  BIC:               </th> <td>   544.9</td>\n",
       "</tr>\n",
       "<tr>\n",
       "  <th>Df Model:</th>              <td>     3</td>      <th>                     </th>     <td> </td>   \n",
       "</tr>\n",
       "<tr>\n",
       "  <th>Covariance Type:</th>      <td>nonrobust</td>    <th>                     </th>     <td> </td>   \n",
       "</tr>\n",
       "</table>\n",
       "<table class=\"simpletable\">\n",
       "<tr>\n",
       "      <td></td>         <th>coef</th>     <th>std err</th>      <th>t</th>      <th>P>|t|</th>  <th>[0.025</th>    <th>0.975]</th>  \n",
       "</tr>\n",
       "<tr>\n",
       "  <th>Intercept</th> <td>    2.7452</td> <td>    0.349</td> <td>    7.867</td> <td> 0.000</td> <td>    2.055</td> <td>    3.435</td>\n",
       "</tr>\n",
       "<tr>\n",
       "  <th>TV</th>        <td>    0.0476</td> <td>    0.002</td> <td>   29.101</td> <td> 0.000</td> <td>    0.044</td> <td>    0.051</td>\n",
       "</tr>\n",
       "<tr>\n",
       "  <th>radio</th>     <td>    0.1847</td> <td>    0.010</td> <td>   18.978</td> <td> 0.000</td> <td>    0.165</td> <td>    0.204</td>\n",
       "</tr>\n",
       "<tr>\n",
       "  <th>newspaper</th> <td>    0.0038</td> <td>    0.007</td> <td>    0.558</td> <td> 0.578</td> <td>   -0.010</td> <td>    0.017</td>\n",
       "</tr>\n",
       "</table>\n",
       "<table class=\"simpletable\">\n",
       "<tr>\n",
       "  <th>Omnibus:</th>       <td>56.768</td> <th>  Durbin-Watson:     </th> <td>   2.107</td>\n",
       "</tr>\n",
       "<tr>\n",
       "  <th>Prob(Omnibus):</th> <td> 0.000</td> <th>  Jarque-Bera (JB):  </th> <td> 196.422</td>\n",
       "</tr>\n",
       "<tr>\n",
       "  <th>Skew:</th>          <td>-1.499</td> <th>  Prob(JB):          </th> <td>2.23e-43</td>\n",
       "</tr>\n",
       "<tr>\n",
       "  <th>Kurtosis:</th>      <td> 7.968</td> <th>  Cond. No.          </th> <td>    438.</td>\n",
       "</tr>\n",
       "</table><br/><br/>Notes:<br/>[1] Standard Errors assume that the covariance matrix of the errors is correctly specified."
      ],
      "text/plain": [
       "<class 'statsmodels.iolib.summary.Summary'>\n",
       "\"\"\"\n",
       "                            OLS Regression Results                            \n",
       "==============================================================================\n",
       "Dep. Variable:                  sales   R-squared:                       0.914\n",
       "Model:                            OLS   Adj. R-squared:                  0.913\n",
       "Method:                 Least Squares   F-statistic:                     484.5\n",
       "Date:                Wed, 18 May 2022   Prob (F-statistic):           2.22e-72\n",
       "Time:                        15:45:11   Log-Likelihood:                -262.57\n",
       "No. Observations:                 140   AIC:                             533.1\n",
       "Df Residuals:                     136   BIC:                             544.9\n",
       "Df Model:                           3                                         \n",
       "Covariance Type:            nonrobust                                         \n",
       "==============================================================================\n",
       "                 coef    std err          t      P>|t|      [0.025      0.975]\n",
       "------------------------------------------------------------------------------\n",
       "Intercept      2.7452      0.349      7.867      0.000       2.055       3.435\n",
       "TV             0.0476      0.002     29.101      0.000       0.044       0.051\n",
       "radio          0.1847      0.010     18.978      0.000       0.165       0.204\n",
       "newspaper      0.0038      0.007      0.558      0.578      -0.010       0.017\n",
       "==============================================================================\n",
       "Omnibus:                       56.768   Durbin-Watson:                   2.107\n",
       "Prob(Omnibus):                  0.000   Jarque-Bera (JB):              196.422\n",
       "Skew:                          -1.499   Prob(JB):                     2.23e-43\n",
       "Kurtosis:                       7.968   Cond. No.                         438.\n",
       "==============================================================================\n",
       "\n",
       "Notes:\n",
       "[1] Standard Errors assume that the covariance matrix of the errors is correctly specified.\n",
       "\"\"\""
      ]
     },
     "execution_count": 25,
     "metadata": {},
     "output_type": "execute_result"
    }
   ],
   "source": [
    "import statsmodels.formula.api as smf\n",
    "model = smf.ols('sales ~ TV + radio + newspaper',data=df).fit()\n",
    "model.summary()"
   ]
  },
  {
   "cell_type": "markdown",
   "metadata": {},
   "source": [
    "* There is Linear relationship between sales and tv , radio\n",
    "* There is no Linear relationship between sales and NewsPaper \n",
    " * so we will remove and re-run the model \n",
    "* 91% is accuracy of model , so we say model is good fit "
   ]
  },
  {
   "cell_type": "code",
   "execution_count": 26,
   "metadata": {},
   "outputs": [
    {
     "data": {
      "text/html": [
       "<table class=\"simpletable\">\n",
       "<caption>OLS Regression Results</caption>\n",
       "<tr>\n",
       "  <th>Dep. Variable:</th>          <td>sales</td>      <th>  R-squared:         </th> <td>   0.914</td>\n",
       "</tr>\n",
       "<tr>\n",
       "  <th>Model:</th>                   <td>OLS</td>       <th>  Adj. R-squared:    </th> <td>   0.913</td>\n",
       "</tr>\n",
       "<tr>\n",
       "  <th>Method:</th>             <td>Least Squares</td>  <th>  F-statistic:       </th> <td>   730.3</td>\n",
       "</tr>\n",
       "<tr>\n",
       "  <th>Date:</th>             <td>Wed, 18 May 2022</td> <th>  Prob (F-statistic):</th> <td>8.49e-74</td>\n",
       "</tr>\n",
       "<tr>\n",
       "  <th>Time:</th>                 <td>15:46:34</td>     <th>  Log-Likelihood:    </th> <td> -262.73</td>\n",
       "</tr>\n",
       "<tr>\n",
       "  <th>No. Observations:</th>      <td>   140</td>      <th>  AIC:               </th> <td>   531.5</td>\n",
       "</tr>\n",
       "<tr>\n",
       "  <th>Df Residuals:</th>          <td>   137</td>      <th>  BIC:               </th> <td>   540.3</td>\n",
       "</tr>\n",
       "<tr>\n",
       "  <th>Df Model:</th>              <td>     2</td>      <th>                     </th>     <td> </td>   \n",
       "</tr>\n",
       "<tr>\n",
       "  <th>Covariance Type:</th>      <td>nonrobust</td>    <th>                     </th>     <td> </td>   \n",
       "</tr>\n",
       "</table>\n",
       "<table class=\"simpletable\">\n",
       "<tr>\n",
       "      <td></td>         <th>coef</th>     <th>std err</th>      <th>t</th>      <th>P>|t|</th>  <th>[0.025</th>    <th>0.975]</th>  \n",
       "</tr>\n",
       "<tr>\n",
       "  <th>Intercept</th> <td>    2.8144</td> <td>    0.325</td> <td>    8.651</td> <td> 0.000</td> <td>    2.171</td> <td>    3.458</td>\n",
       "</tr>\n",
       "<tr>\n",
       "  <th>TV</th>        <td>    0.0476</td> <td>    0.002</td> <td>   29.206</td> <td> 0.000</td> <td>    0.044</td> <td>    0.051</td>\n",
       "</tr>\n",
       "<tr>\n",
       "  <th>radio</th>     <td>    0.1863</td> <td>    0.009</td> <td>   20.076</td> <td> 0.000</td> <td>    0.168</td> <td>    0.205</td>\n",
       "</tr>\n",
       "</table>\n",
       "<table class=\"simpletable\">\n",
       "<tr>\n",
       "  <th>Omnibus:</th>       <td>58.726</td> <th>  Durbin-Watson:     </th> <td>   2.080</td>\n",
       "</tr>\n",
       "<tr>\n",
       "  <th>Prob(Omnibus):</th> <td> 0.000</td> <th>  Jarque-Bera (JB):  </th> <td> 212.934</td>\n",
       "</tr>\n",
       "<tr>\n",
       "  <th>Skew:</th>          <td>-1.537</td> <th>  Prob(JB):          </th> <td>5.78e-47</td>\n",
       "</tr>\n",
       "<tr>\n",
       "  <th>Kurtosis:</th>      <td> 8.201</td> <th>  Cond. No.          </th> <td>    405.</td>\n",
       "</tr>\n",
       "</table><br/><br/>Notes:<br/>[1] Standard Errors assume that the covariance matrix of the errors is correctly specified."
      ],
      "text/plain": [
       "<class 'statsmodels.iolib.summary.Summary'>\n",
       "\"\"\"\n",
       "                            OLS Regression Results                            \n",
       "==============================================================================\n",
       "Dep. Variable:                  sales   R-squared:                       0.914\n",
       "Model:                            OLS   Adj. R-squared:                  0.913\n",
       "Method:                 Least Squares   F-statistic:                     730.3\n",
       "Date:                Wed, 18 May 2022   Prob (F-statistic):           8.49e-74\n",
       "Time:                        15:46:34   Log-Likelihood:                -262.73\n",
       "No. Observations:                 140   AIC:                             531.5\n",
       "Df Residuals:                     137   BIC:                             540.3\n",
       "Df Model:                           2                                         \n",
       "Covariance Type:            nonrobust                                         \n",
       "==============================================================================\n",
       "                 coef    std err          t      P>|t|      [0.025      0.975]\n",
       "------------------------------------------------------------------------------\n",
       "Intercept      2.8144      0.325      8.651      0.000       2.171       3.458\n",
       "TV             0.0476      0.002     29.206      0.000       0.044       0.051\n",
       "radio          0.1863      0.009     20.076      0.000       0.168       0.205\n",
       "==============================================================================\n",
       "Omnibus:                       58.726   Durbin-Watson:                   2.080\n",
       "Prob(Omnibus):                  0.000   Jarque-Bera (JB):              212.934\n",
       "Skew:                          -1.537   Prob(JB):                     5.78e-47\n",
       "Kurtosis:                       8.201   Cond. No.                         405.\n",
       "==============================================================================\n",
       "\n",
       "Notes:\n",
       "[1] Standard Errors assume that the covariance matrix of the errors is correctly specified.\n",
       "\"\"\""
      ]
     },
     "execution_count": 26,
     "metadata": {},
     "output_type": "execute_result"
    }
   ],
   "source": [
    "# removing the insignificant variable \n",
    "model2=smf.ols('sales ~ TV+ radio',data=df).fit()\n",
    "model2.summary()"
   ]
  },
  {
   "cell_type": "markdown",
   "metadata": {},
   "source": [
    "* There is Linear relationship between sales and tv , radio\n",
    "* 91% is accuracy of model , so we say model is good fit \n",
    "* Y = 2.8144 + 0.0476 * TV + 0.1863 * Radio"
   ]
  },
  {
   "cell_type": "markdown",
   "metadata": {},
   "source": [
    "# Multicolinearity (with the help of VIF)"
   ]
  },
  {
   "cell_type": "code",
   "execution_count": 27,
   "metadata": {},
   "outputs": [
    {
     "data": {
      "text/plain": [
       "TV       2.475632\n",
       "radio    2.475632\n",
       "dtype: float64"
      ]
     },
     "execution_count": 27,
     "metadata": {},
     "output_type": "execute_result"
    }
   ],
   "source": [
    "X1=df.loc[:,['TV', 'radio']]\n",
    "series_before = pd.Series([variance_inflation_factor(X1.values, i) \n",
    "                           for i in range(X1.shape[1])], \n",
    "                          index=X1.columns)\n",
    "series_before"
   ]
  },
  {
   "cell_type": "markdown",
   "metadata": {},
   "source": [
    "# Assumption of Model\n",
    "\n",
    "* Linearity\n",
    "* Normality\n",
    "* Homoscedasicity\n",
    "* Model Error has to be independently identificaly Distibuted"
   ]
  },
  {
   "cell_type": "code",
   "execution_count": 35,
   "metadata": {},
   "outputs": [
    {
     "data": {
      "text/html": [
       "<div>\n",
       "<style scoped>\n",
       "    .dataframe tbody tr th:only-of-type {\n",
       "        vertical-align: middle;\n",
       "    }\n",
       "\n",
       "    .dataframe tbody tr th {\n",
       "        vertical-align: top;\n",
       "    }\n",
       "\n",
       "    .dataframe thead th {\n",
       "        text-align: right;\n",
       "    }\n",
       "</style>\n",
       "<table border=\"1\" class=\"dataframe\">\n",
       "  <thead>\n",
       "    <tr style=\"text-align: right;\">\n",
       "      <th></th>\n",
       "      <th>sales</th>\n",
       "      <th>TV</th>\n",
       "      <th>radio</th>\n",
       "      <th>newspaper</th>\n",
       "      <th>fitted_value</th>\n",
       "      <th>residual</th>\n",
       "    </tr>\n",
       "  </thead>\n",
       "  <tbody>\n",
       "    <tr>\n",
       "      <th>111</th>\n",
       "      <td>21.8</td>\n",
       "      <td>241.7</td>\n",
       "      <td>38.0</td>\n",
       "      <td>23.2</td>\n",
       "      <td>21.403283</td>\n",
       "      <td>0.396717</td>\n",
       "    </tr>\n",
       "    <tr>\n",
       "      <th>156</th>\n",
       "      <td>15.3</td>\n",
       "      <td>93.9</td>\n",
       "      <td>43.5</td>\n",
       "      <td>50.5</td>\n",
       "      <td>15.388970</td>\n",
       "      <td>-0.088970</td>\n",
       "    </tr>\n",
       "    <tr>\n",
       "      <th>140</th>\n",
       "      <td>10.9</td>\n",
       "      <td>73.4</td>\n",
       "      <td>17.0</td>\n",
       "      <td>12.9</td>\n",
       "      <td>9.476577</td>\n",
       "      <td>1.423423</td>\n",
       "    </tr>\n",
       "    <tr>\n",
       "      <th>171</th>\n",
       "      <td>14.5</td>\n",
       "      <td>164.5</td>\n",
       "      <td>20.9</td>\n",
       "      <td>47.4</td>\n",
       "      <td>14.541545</td>\n",
       "      <td>-0.041545</td>\n",
       "    </tr>\n",
       "    <tr>\n",
       "      <th>157</th>\n",
       "      <td>10.1</td>\n",
       "      <td>149.8</td>\n",
       "      <td>1.3</td>\n",
       "      <td>24.3</td>\n",
       "      <td>10.190620</td>\n",
       "      <td>-0.090620</td>\n",
       "    </tr>\n",
       "  </tbody>\n",
       "</table>\n",
       "</div>"
      ],
      "text/plain": [
       "     sales     TV  radio  newspaper  fitted_value  residual\n",
       "111   21.8  241.7   38.0       23.2     21.403283  0.396717\n",
       "156   15.3   93.9   43.5       50.5     15.388970 -0.088970\n",
       "140   10.9   73.4   17.0       12.9      9.476577  1.423423\n",
       "171   14.5  164.5   20.9       47.4     14.541545 -0.041545\n",
       "157   10.1  149.8    1.3       24.3     10.190620 -0.090620"
      ]
     },
     "execution_count": 35,
     "metadata": {},
     "output_type": "execute_result"
    }
   ],
   "source": [
    "df.head()"
   ]
  },
  {
   "cell_type": "code",
   "execution_count": null,
   "metadata": {},
   "outputs": [],
   "source": [
    "# Y = intercet + b1 * Tv + b2 * radio\n",
    "Y = 2.8144 + 0.0476 *93.9 + 0.1863 * 43.5\n",
    "Y"
   ]
  },
  {
   "cell_type": "code",
   "execution_count": 28,
   "metadata": {},
   "outputs": [
    {
     "data": {
      "text/html": [
       "<div>\n",
       "<style scoped>\n",
       "    .dataframe tbody tr th:only-of-type {\n",
       "        vertical-align: middle;\n",
       "    }\n",
       "\n",
       "    .dataframe tbody tr th {\n",
       "        vertical-align: top;\n",
       "    }\n",
       "\n",
       "    .dataframe thead th {\n",
       "        text-align: right;\n",
       "    }\n",
       "</style>\n",
       "<table border=\"1\" class=\"dataframe\">\n",
       "  <thead>\n",
       "    <tr style=\"text-align: right;\">\n",
       "      <th></th>\n",
       "      <th>sales</th>\n",
       "      <th>TV</th>\n",
       "      <th>radio</th>\n",
       "      <th>newspaper</th>\n",
       "      <th>fitted_value</th>\n",
       "      <th>residual</th>\n",
       "    </tr>\n",
       "  </thead>\n",
       "  <tbody>\n",
       "    <tr>\n",
       "      <th>111</th>\n",
       "      <td>21.8</td>\n",
       "      <td>241.7</td>\n",
       "      <td>38.0</td>\n",
       "      <td>23.2</td>\n",
       "      <td>21.403283</td>\n",
       "      <td>0.396717</td>\n",
       "    </tr>\n",
       "    <tr>\n",
       "      <th>156</th>\n",
       "      <td>15.3</td>\n",
       "      <td>93.9</td>\n",
       "      <td>43.5</td>\n",
       "      <td>50.5</td>\n",
       "      <td>15.388970</td>\n",
       "      <td>-0.088970</td>\n",
       "    </tr>\n",
       "    <tr>\n",
       "      <th>140</th>\n",
       "      <td>10.9</td>\n",
       "      <td>73.4</td>\n",
       "      <td>17.0</td>\n",
       "      <td>12.9</td>\n",
       "      <td>9.476577</td>\n",
       "      <td>1.423423</td>\n",
       "    </tr>\n",
       "    <tr>\n",
       "      <th>171</th>\n",
       "      <td>14.5</td>\n",
       "      <td>164.5</td>\n",
       "      <td>20.9</td>\n",
       "      <td>47.4</td>\n",
       "      <td>14.541545</td>\n",
       "      <td>-0.041545</td>\n",
       "    </tr>\n",
       "    <tr>\n",
       "      <th>157</th>\n",
       "      <td>10.1</td>\n",
       "      <td>149.8</td>\n",
       "      <td>1.3</td>\n",
       "      <td>24.3</td>\n",
       "      <td>10.190620</td>\n",
       "      <td>-0.090620</td>\n",
       "    </tr>\n",
       "  </tbody>\n",
       "</table>\n",
       "</div>"
      ],
      "text/plain": [
       "     sales     TV  radio  newspaper  fitted_value  residual\n",
       "111   21.8  241.7   38.0       23.2     21.403283  0.396717\n",
       "156   15.3   93.9   43.5       50.5     15.388970 -0.088970\n",
       "140   10.9   73.4   17.0       12.9      9.476577  1.423423\n",
       "171   14.5  164.5   20.9       47.4     14.541545 -0.041545\n",
       "157   10.1  149.8    1.3       24.3     10.190620 -0.090620"
      ]
     },
     "execution_count": 28,
     "metadata": {},
     "output_type": "execute_result"
    }
   ],
   "source": [
    "df['fitted_value']=model2.fittedvalues #Predicted Value\n",
    "df['residual']=model2.resid  #Error\n",
    "df.head()"
   ]
  },
  {
   "cell_type": "markdown",
   "metadata": {},
   "source": [
    "# Linearity"
   ]
  },
  {
   "cell_type": "code",
   "execution_count": 29,
   "metadata": {},
   "outputs": [
    {
     "data": {
      "text/plain": [
       "<AxesSubplot:title={'center':'sales vs TV'}, xlabel='TV', ylabel='sales'>"
      ]
     },
     "execution_count": 29,
     "metadata": {},
     "output_type": "execute_result"
    },
    {
     "data": {
      "image/png": "[encoded data removed]",
      "text/plain": [
       "<Figure size 432x288 with 1 Axes>"
      ]
     },
     "metadata": {
      "needs_background": "light"
     },
     "output_type": "display_data"
    }
   ],
   "source": [
    "df.plot.scatter(x='TV', y='sales', title='sales vs TV')"
   ]
  },
  {
   "cell_type": "markdown",
   "metadata": {},
   "source": [
    "# Homoscedasicity"
   ]
  },
  {
   "cell_type": "code",
   "execution_count": 30,
   "metadata": {},
   "outputs": [
    {
     "data": {
      "text/plain": [
       "<AxesSubplot:xlabel='fitted_value', ylabel='residual'>"
      ]
     },
     "execution_count": 30,
     "metadata": {},
     "output_type": "execute_result"
    },
    {
     "data": {
      "image/png": "[encoded data removed]",
      "text/plain": [
       "<Figure size 432x288 with 1 Axes>"
      ]
     },
     "metadata": {
      "needs_background": "light"
     },
     "output_type": "display_data"
    }
   ],
   "source": [
    "sns.scatterplot(x='fitted_value', y='residual',data=df)"
   ]
  },
  {
   "cell_type": "markdown",
   "metadata": {},
   "source": [
    "# Normality"
   ]
  },
  {
   "cell_type": "code",
   "execution_count": 31,
   "metadata": {},
   "outputs": [
    {
     "name": "stderr",
     "output_type": "stream",
     "text": [
      "C:\\Users\\Owner\\anaconda3\\lib\\site-packages\\statsmodels\\graphics\\gofplots.py:993: UserWarning: marker is redundantly defined by the 'marker' keyword argument and the fmt string \"bo\" (-> marker='o'). The keyword argument will take precedence.\n",
      "  ax.plot(x, y, fmt, **plot_style)\n"
     ]
    },
    {
     "data": {
      "image/png": "[encoded data removed]",
      "text/plain": [
       "<Figure size 432x288 with 1 Axes>"
      ]
     },
     "metadata": {
      "needs_background": "light"
     },
     "output_type": "display_data"
    }
   ],
   "source": [
    "import statsmodels.api as sm\n",
    "fig = sm.qqplot(df['residual'], fit=True, line='s') # s indicate standardized line\n",
    "plt.show()"
   ]
  },
  {
   "cell_type": "markdown",
   "metadata": {},
   "source": [
    "# Model Error are IID "
   ]
  },
  {
   "cell_type": "code",
   "execution_count": 32,
   "metadata": {},
   "outputs": [
    {
     "data": {
      "text/plain": [
       "<AxesSubplot:ylabel='Frequency'>"
      ]
     },
     "execution_count": 32,
     "metadata": {},
     "output_type": "execute_result"
    },
    {
     "data": {
      "image/png": "[encoded data removed]",
      "text/plain": [
       "<Figure size 432x288 with 1 Axes>"
      ]
     },
     "metadata": {
      "needs_background": "light"
     },
     "output_type": "display_data"
    }
   ],
   "source": [
    "df['residual'].plot.hist()"
   ]
  },
  {
   "cell_type": "markdown",
   "metadata": {},
   "source": [
    "# Prediction on Test Data (unseen data)"
   ]
  },
  {
   "cell_type": "code",
   "execution_count": null,
   "metadata": {},
   "outputs": [],
   "source": [
    "df_test=pd.concat([X_test,y_test],axis=1)\n",
    "\n",
    "df_test.head()"
   ]
  },
  {
   "cell_type": "code",
   "execution_count": null,
   "metadata": {
    "scrolled": true
   },
   "outputs": [],
   "source": [
    "df_test['Prediction']=model2.predict(df_test) # predict = all row prediction ( Auto )\n",
    "df_test.head()"
   ]
  },
  {
   "cell_type": "code",
   "execution_count": 33,
   "metadata": {},
   "outputs": [
    {
     "data": {
      "text/plain": [
       "15.67219"
      ]
     },
     "execution_count": 33,
     "metadata": {},
     "output_type": "execute_result"
    }
   ],
   "source": [
    "Y = 2.8144 + 0.0476 * 125.7 + 0.1863 * 36.9  # one row prediction ( Manual)\n",
    "Y"
   ]
  },
  {
   "cell_type": "markdown",
   "metadata": {},
   "source": [
    "# Finish"
   ]
  },
  {
   "cell_type": "markdown",
   "metadata": {},
   "source": [
    "### RMSE for evaluation of Model on train data"
   ]
  },
  {
   "cell_type": "code",
   "execution_count": null,
   "metadata": {},
   "outputs": [],
   "source": [
    "import math\n",
    "from sklearn.metrics import mean_squared_error\n",
    "\n",
    "# calculate the mean squared error\n",
    "model_mse = mean_squared_error(df['sales'],df['fitted_value'])\n",
    "\n",
    "# calulcate the root mean squared error\n",
    "model_rmse = math.sqrt(model_mse)\n",
    "# display the output\n",
    "print(\"RMSE {:.3}\".format(model_rmse))"
   ]
  },
  {
   "cell_type": "markdown",
   "metadata": {},
   "source": [
    "# RMSE for evaluation of Model on test data "
   ]
  }
 ],
 "metadata": {
  "kernelspec": {
   "display_name": "Python 3 (ipykernel)",
   "language": "python",
   "name": "python3"
  },
  "language_info": {
   "codemirror_mode": {
    "name": "ipython",
    "version": 3
   },
   "file_extension": ".py",
   "mimetype": "text/x-python",
   "name": "python",
   "nbconvert_exporter": "python",
   "pygments_lexer": "ipython3",
   "version": "3.9.7"
  }
 },
 "nbformat": 4,
 "nbformat_minor": 2
}
